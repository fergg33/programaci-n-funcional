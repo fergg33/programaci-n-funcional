{
 "cells": [
  {
   "cell_type": "code",
   "execution_count": 1,
   "metadata": {},
   "outputs": [],
   "source": [
    "import pandas as pd"
   ]
  },
  {
   "cell_type": "code",
   "execution_count": null,
   "metadata": {},
   "outputs": [],
   "source": [
    "#Carga de datos CSV\n",
    "df = pd.read_csv(\"amsterdam1.csv\")"
   ]
  },
  {
   "cell_type": "code",
   "execution_count": null,
   "metadata": {},
   "outputs": [],
   "source": [
    "#Carga de datos .xlsx\n",
    "df= pd.read_excel(\"Amsterdam.xlsx\")"
   ]
  },
  {
   "cell_type": "code",
   "execution_count": null,
   "metadata": {},
   "outputs": [],
   "source": [
    "#Carga de datos html\n",
    "df = pd.read_html(\"Amsterdam.html\")"
   ]
  },
  {
   "cell_type": "code",
   "execution_count": null,
   "metadata": {},
   "outputs": [],
   "source": [
    "#Carga de datos archivo JSON\n",
    "df = pd.read_json(\"Amsterdam.json\")"
   ]
  },
  {
   "cell_type": "code",
   "execution_count": null,
   "metadata": {},
   "outputs": [
    {
     "name": "stderr",
     "output_type": "stream",
     "text": [
      "C:\\Users\\fergu\\AppData\\Local\\Temp\\ipykernel_10600\\3215981303.py:3: FutureWarning: DataFrame.fillna with 'method' is deprecated and will raise in a future version. Use obj.ffill() or obj.bfill() instead.\n",
      "  df=df.fillna(method=\"ffill\")\n"
     ]
    }
   ],
   "source": [
    "#Sustituir valores nulos por valores no nulos hacia adelante  \"forward fill\" (\"ffill\")\n",
    "#forward fill rellena los valores nulos con el último valor válido encontrado anteriormente en la misma columna\n",
    "df=df.fillna(method=\"ffill\")"
   ]
  },
  {
   "cell_type": "code",
   "execution_count": 7,
   "metadata": {},
   "outputs": [
    {
     "name": "stderr",
     "output_type": "stream",
     "text": [
      "C:\\Users\\fergu\\AppData\\Local\\Temp\\ipykernel_10600\\3632462316.py:3: FutureWarning: DataFrame.fillna with 'method' is deprecated and will raise in a future version. Use obj.ffill() or obj.bfill() instead.\n",
      "  df=df.fillna(method=\"bfill\")\n"
     ]
    }
   ],
   "source": [
    "#Sustitución de valores nulos con el método de “bfill”\n",
    "#Backward fill rellena los valores nulos con el siguiente valor válido encontrado en la misma columna.\n",
    "df=df.fillna(method=\"bfill\")"
   ]
  },
  {
   "cell_type": "code",
   "execution_count": 8,
   "metadata": {},
   "outputs": [],
   "source": [
    "#Sustitución de valores nulos con el método por un “string concreto”\n",
    "#Se sustituye los valores nulos con una cadena de texto específica que se defina\n",
    "df =df.fillna(\"0\") "
   ]
  },
  {
   "cell_type": "code",
   "execution_count": 14,
   "metadata": {},
   "outputs": [],
   "source": [
    "#Sustitución de valores nulos con el método de “promedio”\n",
    "#Se rellenan los valores nulos con el promedio de los valores no nulos\n",
    "#Se usa \"numeric_only\" para que solo cuente columnas numéricas\n",
    "df = df.fillna(round(df.mean(numeric_only=True),1))\n",
    "\n"
   ]
  },
  {
   "cell_type": "code",
   "execution_count": 13,
   "metadata": {},
   "outputs": [],
   "source": [
    "#Sustitución de valores nulos con el método de “mediana\"\n",
    "#Se sustituyen los valores nulos con la mediana de los valores no nulos \n",
    "df=df.fillna(round(df.median(numeric_only=True),1))"
   ]
  },
  {
   "cell_type": "code",
   "execution_count": 16,
   "metadata": {},
   "outputs": [
    {
     "data": {
      "text/plain": [
       "Unnamed: 0                                      0\n",
       "id                                              0\n",
       "host_name                                       0\n",
       "host_location                                   0\n",
       "host_response_time                              0\n",
       "host_response_rate                              0\n",
       "host_acceptance_rate                            0\n",
       "host_is_superhost                               0\n",
       "host_neighbourhood                              0\n",
       "host_listings_count                             0\n",
       "host_verifications                              0\n",
       "host_has_profile_pic                            0\n",
       "host_identity_verified                          0\n",
       "neighbourhood                                   0\n",
       "neighbourhood_cleansed                          0\n",
       "latitude                                        0\n",
       "longitude                                       0\n",
       "property_type                                   0\n",
       "room_type                                       0\n",
       "accommodates                                    0\n",
       "bathrooms                                       0\n",
       "bedrooms                                        0\n",
       "beds                                            0\n",
       "amenities                                       0\n",
       "price                                           0\n",
       "minimum_nights                                  0\n",
       "maximum_nights                                  0\n",
       "minimum_minimum_nights                          0\n",
       "maximum_minimum_nights                          0\n",
       "minimum_maximum_nights                          0\n",
       "maximum_maximum_nights                          0\n",
       "minimum_nights_avg_ntm                          0\n",
       "maximum_nights_avg_ntm                          0\n",
       "has_availability                                0\n",
       "availability_30                                 0\n",
       "availability_60                                 0\n",
       "availability_90                                 0\n",
       "availability_365                                0\n",
       "number_of_reviews                               0\n",
       "number_of_reviews_ltm                           0\n",
       "number_of_reviews_l30d                          0\n",
       "first_review                                    0\n",
       "last_review                                     0\n",
       "instant_bookable                                0\n",
       "calculated_host_listings_count                  0\n",
       "calculated_host_listings_count_entire_homes     0\n",
       "calculated_host_listings_count_private_rooms    0\n",
       "calculated_host_listings_count_shared_rooms     0\n",
       "reviews_per_month                               0\n",
       "dtype: int64"
      ]
     },
     "execution_count": 16,
     "metadata": {},
     "output_type": "execute_result"
    }
   ],
   "source": [
    "#Identificamos valores nulos por columna \n",
    "#Visualizamos Valores Nulos\n",
    "valores_nulos=df.isnull().sum()\n",
    "valores_nulos"
   ]
  },
  {
   "cell_type": "code",
   "execution_count": 17,
   "metadata": {},
   "outputs": [
    {
     "data": {
      "text/plain": [
       "np.int64(0)"
      ]
     },
     "execution_count": 17,
     "metadata": {},
     "output_type": "execute_result"
    }
   ],
   "source": [
    "#Identificamos valores nulos por DataFrame\n",
    "valores_nulos=df.isnull().sum().sum()\n",
    "valores_nulos"
   ]
  }
 ],
 "metadata": {
  "kernelspec": {
   "display_name": "Python 3",
   "language": "python",
   "name": "python3"
  },
  "language_info": {
   "codemirror_mode": {
    "name": "ipython",
    "version": 3
   },
   "file_extension": ".py",
   "mimetype": "text/x-python",
   "name": "python",
   "nbconvert_exporter": "python",
   "pygments_lexer": "ipython3",
   "version": "3.13.2"
  }
 },
 "nbformat": 4,
 "nbformat_minor": 2
}
